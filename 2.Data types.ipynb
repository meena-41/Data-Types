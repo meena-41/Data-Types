{
 "cells": [
  {
   "cell_type": "markdown",
   "id": "0f6ce1bb",
   "metadata": {},
   "source": [
    "\n",
    "\n",
    "\n",
    "## DATA TYPES"
   ]
  },
  {
   "cell_type": "markdown",
   "id": "065bdee0",
   "metadata": {},
   "source": [
    "## text type"
   ]
  },
  {
   "cell_type": "code",
   "execution_count": 2,
   "id": "17869227",
   "metadata": {},
   "outputs": [
    {
     "name": "stdout",
     "output_type": "stream",
     "text": [
      "<class 'str'>\n"
     ]
    }
   ],
   "source": [
    "#STRING \n",
    "\n",
    "k=\"@##$$%%%^8999\"\n",
    "print(type(k))"
   ]
  },
  {
   "cell_type": "markdown",
   "id": "fdd3272a",
   "metadata": {},
   "source": [
    "## numeric type"
   ]
  },
  {
   "cell_type": "code",
   "execution_count": 4,
   "id": "a2a9cfbd",
   "metadata": {},
   "outputs": [
    {
     "name": "stdout",
     "output_type": "stream",
     "text": [
      "<class 'int'>\n"
     ]
    }
   ],
   "source": [
    "#integer\n",
    "\n",
    "k=5\n",
    "print(type(k))"
   ]
  },
  {
   "cell_type": "code",
   "execution_count": 3,
   "id": "0742e69c",
   "metadata": {},
   "outputs": [
    {
     "name": "stdout",
     "output_type": "stream",
     "text": [
      "<class 'float'>\n"
     ]
    }
   ],
   "source": [
    "#float\n",
    "\n",
    "k=5.079\n",
    "print(type(k))"
   ]
  },
  {
   "cell_type": "code",
   "execution_count": 11,
   "id": "abe5ad53",
   "metadata": {},
   "outputs": [
    {
     "name": "stdout",
     "output_type": "stream",
     "text": [
      "<class 'complex'>\n"
     ]
    }
   ],
   "source": [
    "# complex\n",
    "\n",
    "k=1+2j\n",
    "print(type(k))"
   ]
  },
  {
   "cell_type": "markdown",
   "id": "da9d8746",
   "metadata": {},
   "source": [
    "## Casting"
   ]
  },
  {
   "cell_type": "code",
   "execution_count": 8,
   "id": "542e7d44",
   "metadata": {},
   "outputs": [
    {
     "name": "stdout",
     "output_type": "stream",
     "text": [
      "7\n"
     ]
    }
   ],
   "source": [
    "k=7\n",
    "\n"
   ]
  },
  {
   "cell_type": "code",
   "execution_count": 21,
   "id": "958b9e13",
   "metadata": {},
   "outputs": [
    {
     "data": {
      "text/plain": [
       "4.0"
      ]
     },
     "execution_count": 21,
     "metadata": {},
     "output_type": "execute_result"
    }
   ],
   "source": [
    "k=float(4)\n",
    "k"
   ]
  },
  {
   "cell_type": "code",
   "execution_count": 23,
   "id": "637fa0d5",
   "metadata": {
    "collapsed": true,
    "jupyter": {
     "outputs_hidden": true
    }
   },
   "outputs": [
    {
     "data": {
      "text/plain": [
       "(4+0j)"
      ]
     },
     "execution_count": 23,
     "metadata": {},
     "output_type": "execute_result"
    }
   ],
   "source": [
    "k=complex(4)\n",
    "k"
   ]
  },
  {
   "cell_type": "code",
   "execution_count": 11,
   "id": "9b02a5e9",
   "metadata": {},
   "outputs": [
    {
     "name": "stdout",
     "output_type": "stream",
     "text": [
      "4\n"
     ]
    }
   ],
   "source": [
    "k=str(4)\n",
    "print(str(4))"
   ]
  },
  {
   "cell_type": "code",
   "execution_count": 12,
   "id": "013eb3d4",
   "metadata": {},
   "outputs": [
    {
     "name": "stdout",
     "output_type": "stream",
     "text": [
      "1.0\n",
      "289.0\n"
     ]
    }
   ],
   "source": [
    "k=1+289j\n",
    "print(k.real)\n",
    "print(k.imag)"
   ]
  },
  {
   "cell_type": "code",
   "execution_count": 4,
   "id": "de7b2db6-443a-4784-8bec-06fe0fda0f38",
   "metadata": {},
   "outputs": [
    {
     "name": "stdout",
     "output_type": "stream",
     "text": [
      "89\n",
      "89.0\n",
      "(89+0j)\n"
     ]
    }
   ],
   "source": [
    "k=7.8\n",
    "k1=int(k)\n",
    "k2=str(k)\n",
    "k3=complex(k)\n",
    "print(k1)\n",
    "print(k2)\n",
    "print(k3)"
   ]
  },
  {
   "cell_type": "code",
   "execution_count": 28,
   "id": "cfd9417c-d549-4806-bfb9-0069fdefe48c",
   "metadata": {},
   "outputs": [
    {
     "name": "stdin",
     "output_type": "stream",
     "text": [
      "enter the number 868\n"
     ]
    },
    {
     "name": "stdout",
     "output_type": "stream",
     "text": [
      "<class 'float'>\n",
      "868.0\n"
     ]
    }
   ],
   "source": [
    "k=float(input(\"enter the number\"))\n",
    "print(type(k))\n",
    "print(k)"
   ]
  },
  {
   "cell_type": "code",
   "execution_count": 1,
   "id": "1ccffa12-099f-485a-88f0-3d4d55b6ab41",
   "metadata": {},
   "outputs": [],
   "source": [
    "k=int(7.8)\n"
   ]
  },
  {
   "cell_type": "code",
   "execution_count": 3,
   "id": "7c6e3fdc-6561-4d4f-9ea5-c5459f211429",
   "metadata": {},
   "outputs": [],
   "source": [
    "k1=str(k)"
   ]
  },
  {
   "cell_type": "code",
   "execution_count": 4,
   "id": "d9fe869f-acc6-42f2-966d-a4bd2cbec84f",
   "metadata": {},
   "outputs": [
    {
     "name": "stdout",
     "output_type": "stream",
     "text": [
      "7\n"
     ]
    }
   ],
   "source": [
    "k2=int(k)\n",
    "print(k2)"
   ]
  },
  {
   "cell_type": "code",
   "execution_count": 5,
   "id": "e15988fe-fc2f-4c5f-8660-1e8b5ba4be5d",
   "metadata": {},
   "outputs": [],
   "source": [
    "k=\"7\""
   ]
  },
  {
   "cell_type": "code",
   "execution_count": null,
   "id": "9bf3dfea-2de4-474d-ab59-a626e19ba13e",
   "metadata": {
    "jupyter": {
     "source_hidden": true
    }
   },
   "outputs": [],
   "source": [
    "#################"
   ]
  },
  {
   "cell_type": "code",
   "execution_count": null,
   "id": "dea9fb22-0fb0-4752-8eb4-b8c3f0c993fc",
   "metadata": {},
   "outputs": [],
   "source": [
    "# two types of conversion\n",
    "# inplicit conversion\n",
    "# explicit conversion\n"
   ]
  },
  {
   "cell_type": "code",
   "execution_count": 2,
   "id": "cfb268c6-f3b5-44fb-ba4a-aeee5a6b6766",
   "metadata": {},
   "outputs": [
    {
     "data": {
      "text/plain": [
       "17.9"
      ]
     },
     "execution_count": 2,
     "metadata": {},
     "output_type": "execute_result"
    }
   ],
   "source": [
    "a=9   # int\n",
    "b=8.9  # float\n",
    "a+b"
   ]
  },
  {
   "cell_type": "code",
   "execution_count": 3,
   "id": "fd1d2fc3-2218-4a46-812e-c7b3f212526e",
   "metadata": {},
   "outputs": [
    {
     "data": {
      "text/plain": [
       "float"
      ]
     },
     "execution_count": 3,
     "metadata": {},
     "output_type": "execute_result"
    }
   ],
   "source": [
    "type(a+b)"
   ]
  },
  {
   "cell_type": "code",
   "execution_count": 4,
   "id": "a423657f-6fff-4538-97aa-8857ca01afde",
   "metadata": {},
   "outputs": [
    {
     "data": {
      "text/plain": [
       "1.0"
      ]
     },
     "execution_count": 4,
     "metadata": {},
     "output_type": "execute_result"
    }
   ],
   "source": [
    "float(True)"
   ]
  },
  {
   "cell_type": "code",
   "execution_count": 5,
   "id": "9c3f76b4-a369-4d7a-b312-94a8f4764d34",
   "metadata": {},
   "outputs": [
    {
     "data": {
      "text/plain": [
       "'True'"
      ]
     },
     "execution_count": 5,
     "metadata": {},
     "output_type": "execute_result"
    }
   ],
   "source": [
    "str(True)"
   ]
  },
  {
   "cell_type": "code",
   "execution_count": 6,
   "id": "72ccd7d7-2f8c-4412-952e-842fe095b48e",
   "metadata": {},
   "outputs": [
    {
     "data": {
      "text/plain": [
       "'[1, 2, 3]'"
      ]
     },
     "execution_count": 6,
     "metadata": {},
     "output_type": "execute_result"
    }
   ],
   "source": [
    "str([1,2,3])"
   ]
  },
  {
   "cell_type": "code",
   "execution_count": null,
   "id": "f88a7d48-cca1-4ca7-b077-e305f571468e",
   "metadata": {},
   "outputs": [],
   "source": []
  }
 ],
 "metadata": {
  "kernelspec": {
   "display_name": "Python 3 (ipykernel)",
   "language": "python",
   "name": "python3"
  },
  "language_info": {
   "codemirror_mode": {
    "name": "ipython",
    "version": 3
   },
   "file_extension": ".py",
   "mimetype": "text/x-python",
   "name": "python",
   "nbconvert_exporter": "python",
   "pygments_lexer": "ipython3",
   "version": "3.13.5"
  }
 },
 "nbformat": 4,
 "nbformat_minor": 5
}
